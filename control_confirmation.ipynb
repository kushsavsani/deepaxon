{
 "cells": [
  {
   "cell_type": "code",
   "execution_count": 1,
   "metadata": {},
   "outputs": [],
   "source": [
    "import pandas as pd\n",
    "from morphometrics import get_morphometrics\n",
    "import os"
   ]
  },
  {
   "cell_type": "code",
   "execution_count": 2,
   "metadata": {},
   "outputs": [],
   "source": [
    "def morph(folder, i):\n",
    "    df = pd.DataFrame()\n",
    "    for img in os.listdir(folder):\n",
    "        img_path = os.path.join(folder, img)\n",
    "        temp_df = get_morphometrics(img_path)\n",
    "        temp_df = temp_df[temp_df['myelin_thickness']>0]\n",
    "        temp_df = temp_df[temp_df['gratio']>0]\n",
    "        df = pd.concat([df, temp_df], axis=0)\n",
    "    print(df['gratio'].mean())\n",
    "    df.to_excel(os.path.join(folder, i+'_all.xlsx'))"
   ]
  },
  {
   "cell_type": "code",
   "execution_count": 3,
   "metadata": {},
   "outputs": [],
   "source": [
    "folder = r\"D:\\Research\\Isaacs Lab\\DeepAxon\\Control Confirmation\\7\""
   ]
  },
  {
   "cell_type": "code",
   "execution_count": 4,
   "metadata": {},
   "outputs": [
    {
     "name": "stdout",
     "output_type": "stream",
     "text": [
      "0.5916622221572172\n",
      "0.6702660128089967\n",
      "0.6707228530672061\n",
      "0.6159808305976752\n",
      "0.6239767604612428\n",
      "0.6380608376740642\n",
      "0.5790809338818597\n",
      "0.6086439806963672\n",
      "0.6014686778627089\n",
      "0.6097023823876728\n",
      "0.6360165998838012\n",
      "0.6136934520374443\n",
      "0.6188608195169104\n",
      "0.6541423770983008\n",
      "0.6330862988196401\n",
      "0.6081236407161937\n",
      "0.6037992831233582\n",
      "0.6487959726456163\n",
      "0.615730737364717\n",
      "0.6190289481986775\n",
      "0.6136427920698287\n"
     ]
    }
   ],
   "source": [
    "i = 7\n",
    "while i <= 67:\n",
    "    folder = os.path.join(r\"D:\\Research\\Isaacs Lab\\DeepAxon\\Control Confirmation\", str(i))\n",
    "    morph(folder, str(i))\n",
    "    i += 3"
   ]
  }
 ],
 "metadata": {
  "kernelspec": {
   "display_name": "Python 3",
   "language": "python",
   "name": "python3"
  },
  "language_info": {
   "codemirror_mode": {
    "name": "ipython",
    "version": 3
   },
   "file_extension": ".py",
   "mimetype": "text/x-python",
   "name": "python",
   "nbconvert_exporter": "python",
   "pygments_lexer": "ipython3",
   "version": "3.8.18"
  }
 },
 "nbformat": 4,
 "nbformat_minor": 2
}
