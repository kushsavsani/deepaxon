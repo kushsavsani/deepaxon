{
 "cells": [
  {
   "cell_type": "code",
   "execution_count": 1,
   "metadata": {},
   "outputs": [],
   "source": [
    "import numpy as np\n",
    "from matplotlib import pyplot as plt\n",
    "from patchify import patchify\n",
    "import cv2\n",
    "import os"
   ]
  },
  {
   "cell_type": "markdown",
   "metadata": {},
   "source": [
    "Read the image and convert it to Black and White"
   ]
  },
  {
   "cell_type": "code",
   "execution_count": 2,
   "metadata": {},
   "outputs": [],
   "source": [
    "image_path = 'test/images/21G-20_40X_21_0005.png'\n",
    "image_name = os.path.basename(image_path).split('.')[0]\n",
    "image_root = os.path.dirname(image_path)\n",
    "patch_dir = os.path.join(image_root,'patches')\n",
    "image = cv2.imread(image_path)\n",
    "image = cv2.cvtColor(image, cv2.COLOR_BGR2GRAY)\n",
    "if not os.path.exists(patch_dir):\n",
    "    os.mkdir(patch_dir)"
   ]
  },
  {
   "cell_type": "markdown",
   "metadata": {},
   "source": [
    "Make the patches"
   ]
  },
  {
   "cell_type": "code",
   "execution_count": 3,
   "metadata": {},
   "outputs": [],
   "source": [
    "patches_img = patchify(image, (160,180), step=160)"
   ]
  },
  {
   "cell_type": "code",
   "execution_count": 4,
   "metadata": {},
   "outputs": [],
   "source": [
    "for i in range(patches_img.shape[0]):\n",
    "    for j in range(patches_img.shape[1]):    \n",
    "        single_patch_img = patches_img[i,j,:,:]\n",
    "        patch_path = os.path.join(patch_dir, image_name+'_'+str(i)+str(j)+'.png')\n",
    "        cv2.imwrite(patch_path, single_patch_img)"
   ]
  }
 ],
 "metadata": {
  "kernelspec": {
   "display_name": "Python 3",
   "language": "python",
   "name": "python3"
  },
  "language_info": {
   "codemirror_mode": {
    "name": "ipython",
    "version": 3
   },
   "file_extension": ".py",
   "mimetype": "text/x-python",
   "name": "python",
   "nbconvert_exporter": "python",
   "pygments_lexer": "ipython3",
   "version": "3.8.18"
  }
 },
 "nbformat": 4,
 "nbformat_minor": 2
}
