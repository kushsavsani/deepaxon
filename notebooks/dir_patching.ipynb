{
 "cells": [
  {
   "cell_type": "code",
   "execution_count": 1,
   "metadata": {},
   "outputs": [],
   "source": [
    "from Patch import patch\n",
    "import os"
   ]
  },
  {
   "cell_type": "code",
   "execution_count": 2,
   "metadata": {},
   "outputs": [],
   "source": [
    "dir_path = 'test'"
   ]
  },
  {
   "cell_type": "code",
   "execution_count": 5,
   "metadata": {},
   "outputs": [
    {
     "name": "stdout",
     "output_type": "stream",
     "text": [
      "test\\images\\21G-20_40X_21_0005.png\n",
      "test\\images\\21G-33_40X_09_0001.png\n",
      "test\\images\\21G-33_40X_09_0002.png\n",
      "test\\images\\21G-35_40X_03_0005.png\n",
      "test\\images\\21G-35_40X_03_0007.png\n"
     ]
    }
   ],
   "source": [
    "for image_name in os.listdir(dir_path):\n",
    "    image_path = os.path.join(dir_path, image_name)\n",
    "    patch(image_path)"
   ]
  }
 ],
 "metadata": {
  "kernelspec": {
   "display_name": "Python 3",
   "language": "python",
   "name": "python3"
  },
  "language_info": {
   "codemirror_mode": {
    "name": "ipython",
    "version": 3
   },
   "file_extension": ".py",
   "mimetype": "text/x-python",
   "name": "python",
   "nbconvert_exporter": "python",
   "pygments_lexer": "ipython3",
   "version": "3.8.18"
  }
 },
 "nbformat": 4,
 "nbformat_minor": 2
}
