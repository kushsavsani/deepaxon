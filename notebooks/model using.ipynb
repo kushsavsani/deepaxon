{
 "cells": [
  {
   "cell_type": "code",
   "execution_count": 1,
   "metadata": {},
   "outputs": [],
   "source": [
    "from keras.utils import normalize\n",
    "from keras.models import load_model\n",
    "import cv2\n",
    "from PIL import Image\n",
    "import numpy as np\n",
    "from patchify import patchify\n",
    "import os"
   ]
  },
  {
   "cell_type": "code",
   "execution_count": 2,
   "metadata": {},
   "outputs": [],
   "source": [
    "img = cv2.imread(r\"D:\\Research\\Isaacs Lab\\Charles Project\\Batch Images\\21G-20_40X_02_0002.png\", 0)"
   ]
  },
  {
   "cell_type": "code",
   "execution_count": 3,
   "metadata": {},
   "outputs": [],
   "source": [
    "patch_size=256"
   ]
  },
  {
   "cell_type": "code",
   "execution_count": 4,
   "metadata": {},
   "outputs": [],
   "source": [
    "model = load_model(r\"D:\\Research\\Isaacs Lab\\DeepAxon\\models\\model1.keras\")"
   ]
  },
  {
   "cell_type": "code",
   "execution_count": 5,
   "metadata": {},
   "outputs": [],
   "source": [
    "SIZE_X = img.shape[0] // patch_size * patch_size\n",
    "SIZE_Y = img.shape[1] // patch_size * patch_size"
   ]
  },
  {
   "cell_type": "code",
   "execution_count": 6,
   "metadata": {},
   "outputs": [],
   "source": [
    "img = Image.fromarray(img)\n",
    "img = img.crop((0,0,SIZE_Y, SIZE_X))\n",
    "img = np.array(img)"
   ]
  },
  {
   "cell_type": "code",
   "execution_count": 7,
   "metadata": {},
   "outputs": [],
   "source": [
    "patches = patchify(img, (patch_size, patch_size), patch_size//2)"
   ]
  },
  {
   "cell_type": "code",
   "execution_count": 8,
   "metadata": {},
   "outputs": [],
   "source": [
    "def get_pos(shape, i,j):\n",
    "    i_max = shape[0]-1\n",
    "    j_max = shape[1]-1\n",
    "    if i == 0 and j == 0:\n",
    "        pos = 0\n",
    "    elif i == 0 and j == j_max:\n",
    "        pos = 2\n",
    "    elif i == i_max and j == 0:\n",
    "        pos = 6\n",
    "    elif i == i_max and j == j_max:\n",
    "        pos = 8\n",
    "    elif i == 0:\n",
    "        pos = 1\n",
    "    elif i == i_max:\n",
    "        pos = 7\n",
    "    elif j == 0:\n",
    "        pos = 3\n",
    "    elif j == j_max:\n",
    "        pos = 5\n",
    "    else:\n",
    "        pos = 4\n",
    "    return pos"
   ]
  },
  {
   "cell_type": "code",
   "execution_count": 9,
   "metadata": {},
   "outputs": [],
   "source": [
    "def hann_fn(x):\n",
    "    return (1 - np.cos(2 * np.pi * x / 255))/2"
   ]
  },
  {
   "cell_type": "code",
   "execution_count": 10,
   "metadata": {},
   "outputs": [],
   "source": [
    "def hann_window(pos):\n",
    "    i, j = np.meshgrid(np.arange(256), np.arange(256), indexing='ij')\n",
    "    condition1 = (i <= 128) & (j <= 128)\n",
    "    condition2 = (i > 128) & (j < 128)\n",
    "    condition3 = (i < 128) & (j > 128)\n",
    "    condition4 = ~condition1 & ~condition2 & ~condition3\n",
    "    \n",
    "    scaler = np.zeros((256,256), dtype=float)\n",
    "    if pos == 0:\n",
    "        scaler[condition1] = 1\n",
    "        scaler[condition2] = hann_fn(i[condition2])\n",
    "        scaler[condition3] = hann_fn(j[condition3])\n",
    "        scaler[condition4] = hann_fn(i[condition4]) * hann_fn(j[condition4])\n",
    "    elif pos == 1:\n",
    "        scaler[condition1] = hann_fn(j[condition1])\n",
    "        scaler[condition2] = hann_fn(i[condition2]) * hann_fn(j[condition2])\n",
    "        scaler[condition3] = hann_fn(j[condition3])\n",
    "        scaler[condition4] = hann_fn(i[condition4]) * hann_fn(j[condition4])\n",
    "    elif pos == 2:\n",
    "        scaler[condition1] = hann_fn(j[condition1])\n",
    "        scaler[condition2] = hann_fn(i[condition2]) * hann_fn(j[condition2])\n",
    "        scaler[condition3] = 1\n",
    "        scaler[condition4] = hann_fn(i[condition4])\n",
    "    elif pos == 3:\n",
    "        scaler[condition1] = hann_fn(i[condition1])\n",
    "        scaler[condition2] = hann_fn(i[condition2])\n",
    "        scaler[condition3] = hann_fn(i[condition3]) * hann_fn(j[condition3])\n",
    "        scaler[condition4] = hann_fn(i[condition4]) * hann_fn(j[condition4])\n",
    "    elif pos == 4:\n",
    "        scaler[condition1] = hann_fn(i[condition1]) * hann_fn(j[condition1])\n",
    "        scaler[condition2] = hann_fn(i[condition2]) * hann_fn(j[condition2])\n",
    "        scaler[condition3] = hann_fn(i[condition3]) * hann_fn(j[condition3])\n",
    "        scaler[condition4] = hann_fn(i[condition4]) * hann_fn(j[condition4])\n",
    "    elif pos == 5:\n",
    "        scaler[condition1] = hann_fn(i[condition1]) * hann_fn(j[condition1])\n",
    "        scaler[condition2] = hann_fn(i[condition2]) * hann_fn(j[condition2])\n",
    "        scaler[condition3] = hann_fn(i[condition3])\n",
    "        scaler[condition4] = hann_fn(i[condition4])\n",
    "    elif pos == 6:\n",
    "        scaler[condition1] = hann_fn(i[condition1])\n",
    "        scaler[condition2] = 1\n",
    "        scaler[condition3] = hann_fn(i[condition3]) * hann_fn(j[condition3])\n",
    "        scaler[condition4] = hann_fn(j[condition4])\n",
    "    elif pos == 7:\n",
    "        scaler[condition1] = hann_fn(i[condition1]) * hann_fn(j[condition1])\n",
    "        scaler[condition2] = hann_fn(j[condition2])\n",
    "        scaler[condition3] = hann_fn(i[condition3]) * hann_fn(j[condition3])\n",
    "        scaler[condition4] = hann_fn(j[condition4])\n",
    "    elif pos == 8:\n",
    "        scaler[condition1] = hann_fn(i[condition1]) * hann_fn(j[condition1])\n",
    "        scaler[condition2] = hann_fn(j[condition2])\n",
    "        scaler[condition3] = hann_fn(i[condition3])\n",
    "        scaler[condition4] = 1\n",
    "        \n",
    "    return scaler"
   ]
  },
  {
   "cell_type": "code",
   "execution_count": 11,
   "metadata": {},
   "outputs": [],
   "source": [
    "def patch_predict(patches):\n",
    "    pred_img = np.zeros(img.shape)\n",
    "    for i in range(patches.shape[0]):\n",
    "        for j in range(patches.shape[1]):\n",
    "            patch = patches[i,j,:,:]\n",
    "            patch = normalize(patch)\n",
    "            patch = np.expand_dims(patch, axis=(0,3))\n",
    "            pred = model.predict(patch)\n",
    "            pred = np.argmax(pred, axis=3)\n",
    "            pred = pred[0,:,:]\n",
    "            \n",
    "            patch_pos = get_pos(patches.shape, i, j)\n",
    "            hann_matrix = hann_window(patch_pos)\n",
    "            adj_pred = pred * hann_matrix\n",
    "            \n",
    "            i_start = i*128\n",
    "            i_end = i_start+256\n",
    "            j_start = j*128\n",
    "            j_end = j_start+256\n",
    "            pred_img[i_start:i_end, j_start:j_end] += adj_pred\n",
    "    pred_img = np.round(pred_img).astype(int)\n",
    "    return pred_img"
   ]
  },
  {
   "cell_type": "code",
   "execution_count": 12,
   "metadata": {},
   "outputs": [
    {
     "name": "stdout",
     "output_type": "stream",
     "text": [
      "1/1 [==============================] - 1s 574ms/step\n",
      "1/1 [==============================] - 0s 152ms/step\n",
      "1/1 [==============================] - 0s 157ms/step\n",
      "1/1 [==============================] - 0s 170ms/step\n",
      "1/1 [==============================] - 0s 169ms/step\n",
      "1/1 [==============================] - 0s 171ms/step\n",
      "1/1 [==============================] - 0s 165ms/step\n",
      "1/1 [==============================] - 0s 173ms/step\n",
      "1/1 [==============================] - 0s 164ms/step\n",
      "1/1 [==============================] - 0s 163ms/step\n",
      "1/1 [==============================] - 0s 168ms/step\n",
      "1/1 [==============================] - 0s 165ms/step\n",
      "1/1 [==============================] - 0s 164ms/step\n",
      "1/1 [==============================] - 0s 172ms/step\n",
      "1/1 [==============================] - 0s 164ms/step\n",
      "1/1 [==============================] - 0s 166ms/step\n",
      "1/1 [==============================] - 0s 168ms/step\n",
      "1/1 [==============================] - 0s 168ms/step\n",
      "1/1 [==============================] - 0s 171ms/step\n",
      "1/1 [==============================] - 0s 173ms/step\n",
      "1/1 [==============================] - 0s 169ms/step\n",
      "1/1 [==============================] - 0s 171ms/step\n",
      "1/1 [==============================] - 0s 166ms/step\n",
      "1/1 [==============================] - 0s 162ms/step\n",
      "1/1 [==============================] - 0s 168ms/step\n",
      "1/1 [==============================] - 0s 173ms/step\n",
      "1/1 [==============================] - 0s 168ms/step\n",
      "1/1 [==============================] - 0s 166ms/step\n",
      "1/1 [==============================] - 0s 170ms/step\n",
      "1/1 [==============================] - 0s 194ms/step\n",
      "1/1 [==============================] - 0s 202ms/step\n",
      "1/1 [==============================] - 0s 164ms/step\n",
      "1/1 [==============================] - 0s 160ms/step\n",
      "1/1 [==============================] - 0s 189ms/step\n",
      "1/1 [==============================] - 0s 164ms/step\n",
      "1/1 [==============================] - 0s 164ms/step\n",
      "1/1 [==============================] - 0s 178ms/step\n",
      "1/1 [==============================] - 0s 168ms/step\n",
      "1/1 [==============================] - 0s 175ms/step\n",
      "1/1 [==============================] - 0s 175ms/step\n",
      "1/1 [==============================] - 0s 168ms/step\n",
      "1/1 [==============================] - 0s 174ms/step\n",
      "1/1 [==============================] - 0s 168ms/step\n",
      "1/1 [==============================] - 0s 162ms/step\n",
      "1/1 [==============================] - 0s 162ms/step\n",
      "1/1 [==============================] - 0s 164ms/step\n",
      "1/1 [==============================] - 0s 164ms/step\n",
      "1/1 [==============================] - 0s 171ms/step\n",
      "1/1 [==============================] - 0s 169ms/step\n",
      "1/1 [==============================] - 0s 171ms/step\n",
      "1/1 [==============================] - 0s 170ms/step\n",
      "1/1 [==============================] - 0s 162ms/step\n",
      "1/1 [==============================] - 0s 160ms/step\n",
      "1/1 [==============================] - 0s 161ms/step\n",
      "1/1 [==============================] - 0s 171ms/step\n",
      "1/1 [==============================] - 0s 164ms/step\n",
      "1/1 [==============================] - 0s 163ms/step\n",
      "1/1 [==============================] - 0s 162ms/step\n",
      "1/1 [==============================] - 0s 225ms/step\n",
      "1/1 [==============================] - 0s 182ms/step\n",
      "1/1 [==============================] - 0s 172ms/step\n",
      "1/1 [==============================] - 0s 163ms/step\n",
      "1/1 [==============================] - 0s 162ms/step\n"
     ]
    }
   ],
   "source": [
    "pred = patch_predict(patches)"
   ]
  },
  {
   "cell_type": "code",
   "execution_count": 13,
   "metadata": {},
   "outputs": [],
   "source": [
    "colors = {\n",
    "    0: (0, 0, 0),    # Black for 0\n",
    "    1: (128, 128, 128),  # Middle gray for 1\n",
    "    2: (255, 255, 255),  # White for 2\n",
    "}"
   ]
  },
  {
   "cell_type": "code",
   "execution_count": 14,
   "metadata": {},
   "outputs": [],
   "source": [
    "colored_array = np.zeros((pred.shape[0], pred.shape[1], 3), dtype=np.uint8)"
   ]
  },
  {
   "cell_type": "code",
   "execution_count": 15,
   "metadata": {},
   "outputs": [],
   "source": [
    "for value, color in colors.items():\n",
    "    colored_array[pred == value, :] = color"
   ]
  },
  {
   "cell_type": "code",
   "execution_count": 18,
   "metadata": {},
   "outputs": [
    {
     "data": {
      "text/plain": [
       "array([  0, 128, 255], dtype=uint8)"
      ]
     },
     "execution_count": 18,
     "metadata": {},
     "output_type": "execute_result"
    }
   ],
   "source": [
    "np.unique(colored_array)"
   ]
  },
  {
   "cell_type": "code",
   "execution_count": 16,
   "metadata": {},
   "outputs": [],
   "source": [
    "image = Image.fromarray(colored_array)"
   ]
  },
  {
   "cell_type": "code",
   "execution_count": 17,
   "metadata": {},
   "outputs": [],
   "source": [
    "image.save(r\"D:\\Research\\Isaacs Lab\\DeepAxon\\test\\images\\segmented\\21G-20_40X_02_0002.png\")"
   ]
  },
  {
   "cell_type": "code",
   "execution_count": null,
   "metadata": {},
   "outputs": [],
   "source": []
  }
 ],
 "metadata": {
  "kernelspec": {
   "display_name": "Python 3",
   "language": "python",
   "name": "python3"
  },
  "language_info": {
   "codemirror_mode": {
    "name": "ipython",
    "version": 3
   },
   "file_extension": ".py",
   "mimetype": "text/x-python",
   "name": "python",
   "nbconvert_exporter": "python",
   "pygments_lexer": "ipython3",
   "version": "3.8.18"
  }
 },
 "nbformat": 4,
 "nbformat_minor": 2
}
