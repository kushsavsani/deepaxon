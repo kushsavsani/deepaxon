{
 "cells": [
  {
   "cell_type": "code",
   "execution_count": 44,
   "metadata": {},
   "outputs": [],
   "source": [
    "import pandas as pd\n",
    "import matplotlib.pyplot as plt\n",
    "import scipy.stats as stats"
   ]
  },
  {
   "cell_type": "code",
   "execution_count": 45,
   "metadata": {},
   "outputs": [],
   "source": [
    "df = pd.read_excel(r\"D:\\Research\\Isaacs Lab\\DeepAxon\\Charles Data.xlsx\", sheet_name='Full Data (Per Image)')\n",
    "df = df[df['image_id']!='22G-13-6 40x A2.1']\n",
    "ctrl = df[df['group']=='control']"
   ]
  },
  {
   "cell_type": "code",
   "execution_count": 46,
   "metadata": {},
   "outputs": [],
   "source": [
    "ip = df[df['software'] == 'ip']\n",
    "da_major = df[df['software'] == 'da_major']\n",
    "da_avg = df[df['software'] == 'da_avg']"
   ]
  },
  {
   "cell_type": "code",
   "execution_count": 47,
   "metadata": {},
   "outputs": [],
   "source": [
    "ip_ctrl = ctrl[ctrl['software']=='ip']\n",
    "da_major_ctrl = ctrl[ctrl['software']=='da_major']\n",
    "da_avg_ctrl = ctrl[ctrl['software']=='da_avg']\n",
    "da_full_major_ctrl = ctrl[ctrl['software']=='da_full_major']\n",
    "da_full_avg_ctrl = ctrl[ctrl['software']=='da_full_avg']"
   ]
  },
  {
   "cell_type": "code",
   "execution_count": 48,
   "metadata": {},
   "outputs": [
    {
     "data": {
      "text/plain": [
       "{'whiskers': [<matplotlib.lines.Line2D at 0x1ee0681e580>,\n",
       "  <matplotlib.lines.Line2D at 0x1ee0681e670>],\n",
       " 'caps': [<matplotlib.lines.Line2D at 0x1ee0681e520>,\n",
       "  <matplotlib.lines.Line2D at 0x1ee0681ebb0>],\n",
       " 'boxes': [<matplotlib.lines.Line2D at 0x1ee0681e0d0>],\n",
       " 'medians': [<matplotlib.lines.Line2D at 0x1ee0681e6d0>],\n",
       " 'fliers': [<matplotlib.lines.Line2D at 0x1ee0600f220>],\n",
       " 'means': []}"
      ]
     },
     "execution_count": 48,
     "metadata": {},
     "output_type": "execute_result"
    },
    {
     "data": {
      "image/png": "[encoded data removed]",
      "text/plain": [
       "<Figure size 640x480 with 1 Axes>"
      ]
     },
     "metadata": {},
     "output_type": "display_data"
    }
   ],
   "source": [
    "plt.boxplot(ip_ctrl['gratio_avg'])"
   ]
  },
  {
   "cell_type": "code",
   "execution_count": 49,
   "metadata": {},
   "outputs": [
    {
     "data": {
      "text/html": [
       "<div>\n",
       "<style scoped>\n",
       "    .dataframe tbody tr th:only-of-type {\n",
       "        vertical-align: middle;\n",
       "    }\n",
       "\n",
       "    .dataframe tbody tr th {\n",
       "        vertical-align: top;\n",
       "    }\n",
       "\n",
       "    .dataframe thead th {\n",
       "        text-align: right;\n",
       "    }\n",
       "</style>\n",
       "<table border=\"1\" class=\"dataframe\">\n",
       "  <thead>\n",
       "    <tr style=\"text-align: right;\">\n",
       "      <th></th>\n",
       "      <th>subject_id</th>\n",
       "      <th>animal_id</th>\n",
       "      <th>group</th>\n",
       "      <th>month</th>\n",
       "      <th>software</th>\n",
       "      <th>image_num</th>\n",
       "      <th>image_id</th>\n",
       "      <th>area_analyzed</th>\n",
       "      <th>axon_count</th>\n",
       "      <th>gratio_avg</th>\n",
       "      <th>diamter_avg</th>\n",
       "    </tr>\n",
       "  </thead>\n",
       "  <tbody>\n",
       "    <tr>\n",
       "      <th>365</th>\n",
       "      <td>CONTROL_3</td>\n",
       "      <td>21G-20-27</td>\n",
       "      <td>control</td>\n",
       "      <td>0</td>\n",
       "      <td>ip</td>\n",
       "      <td>x2</td>\n",
       "      <td>21G-20-27 40X2</td>\n",
       "      <td>53018</td>\n",
       "      <td>303</td>\n",
       "      <td>0.619839</td>\n",
       "      <td>NaN</td>\n",
       "    </tr>\n",
       "    <tr>\n",
       "      <th>366</th>\n",
       "      <td>CONTROL_3</td>\n",
       "      <td>21G-20-27</td>\n",
       "      <td>control</td>\n",
       "      <td>0</td>\n",
       "      <td>ip</td>\n",
       "      <td>x3</td>\n",
       "      <td>21G-20-27 40X3</td>\n",
       "      <td>56530</td>\n",
       "      <td>779</td>\n",
       "      <td>0.620456</td>\n",
       "      <td>NaN</td>\n",
       "    </tr>\n",
       "    <tr>\n",
       "      <th>448</th>\n",
       "      <td>CONTROL_4</td>\n",
       "      <td>22G-13-33</td>\n",
       "      <td>control</td>\n",
       "      <td>0</td>\n",
       "      <td>ip</td>\n",
       "      <td>x4</td>\n",
       "      <td>22G-13-33 40x A1.4</td>\n",
       "      <td>54168</td>\n",
       "      <td>460</td>\n",
       "      <td>0.603376</td>\n",
       "      <td>NaN</td>\n",
       "    </tr>\n",
       "  </tbody>\n",
       "</table>\n",
       "</div>"
      ],
      "text/plain": [
       "    subject_id  animal_id    group  month software image_num  \\\n",
       "365  CONTROL_3  21G-20-27  control      0       ip        x2   \n",
       "366  CONTROL_3  21G-20-27  control      0       ip        x3   \n",
       "448  CONTROL_4  22G-13-33  control      0       ip        x4   \n",
       "\n",
       "               image_id  area_analyzed  axon_count  gratio_avg  diamter_avg  \n",
       "365      21G-20-27 40X2          53018         303    0.619839          NaN  \n",
       "366      21G-20-27 40X3          56530         779    0.620456          NaN  \n",
       "448  22G-13-33 40x A1.4          54168         460    0.603376          NaN  "
      ]
     },
     "execution_count": 49,
     "metadata": {},
     "output_type": "execute_result"
    }
   ],
   "source": [
    "q1 = ip_ctrl['gratio_avg'].quantile(0.25)\n",
    "q3 = ip_ctrl['gratio_avg'].quantile(0.75)\n",
    "iqr = q3 - q1\n",
    "\n",
    "thresh = 1.5\n",
    "outliers = ip_ctrl[(ip_ctrl['gratio_avg']<q1-thresh*iqr) | (ip_ctrl['gratio_avg']>q3+thresh*iqr)]\n",
    "outliers"
   ]
  },
  {
   "cell_type": "markdown",
   "metadata": {},
   "source": [
    "Full Analysis of IP vs DA"
   ]
  },
  {
   "cell_type": "code",
   "execution_count": 50,
   "metadata": {},
   "outputs": [
    {
     "data": {
      "text/plain": [
       "TtestResult(statistic=2.4870560074311654, pvalue=0.013946810481510473, df=154)"
      ]
     },
     "execution_count": 50,
     "metadata": {},
     "output_type": "execute_result"
    }
   ],
   "source": [
    "stats.ttest_rel(ip['gratio_avg'], da_avg['gratio_avg'])"
   ]
  },
  {
   "cell_type": "code",
   "execution_count": 51,
   "metadata": {},
   "outputs": [
    {
     "data": {
      "text/plain": [
       "TtestResult(statistic=-0.2386348195575951, pvalue=0.8117060189454341, df=154)"
      ]
     },
     "execution_count": 51,
     "metadata": {},
     "output_type": "execute_result"
    }
   ],
   "source": [
    "stats.ttest_rel(ip['gratio_avg'], da_major['gratio_avg'])"
   ]
  },
  {
   "cell_type": "markdown",
   "metadata": {},
   "source": [
    "Control Analysis of IP vs DA Using ADS Seg"
   ]
  },
  {
   "cell_type": "code",
   "execution_count": 52,
   "metadata": {},
   "outputs": [
    {
     "data": {
      "text/plain": [
       "0.7043641053571429"
      ]
     },
     "execution_count": 52,
     "metadata": {},
     "output_type": "execute_result"
    }
   ],
   "source": [
    "ip_ctrl['gratio_avg'].mean()"
   ]
  },
  {
   "cell_type": "code",
   "execution_count": 53,
   "metadata": {},
   "outputs": [
    {
     "data": {
      "text/plain": [
       "0.565798056953499"
      ]
     },
     "execution_count": 53,
     "metadata": {},
     "output_type": "execute_result"
    }
   ],
   "source": [
    "da_avg_ctrl['gratio_avg'].mean()"
   ]
  },
  {
   "cell_type": "code",
   "execution_count": 54,
   "metadata": {},
   "outputs": [
    {
     "data": {
      "text/plain": [
       "0.5915883977967462"
      ]
     },
     "execution_count": 54,
     "metadata": {},
     "output_type": "execute_result"
    }
   ],
   "source": [
    "da_major_ctrl['gratio_avg'].mean()"
   ]
  },
  {
   "cell_type": "code",
   "execution_count": 55,
   "metadata": {},
   "outputs": [
    {
     "data": {
      "text/plain": [
       "TtestResult(statistic=20.246494460015594, pvalue=3.6573502407441865e-27, df=55)"
      ]
     },
     "execution_count": 55,
     "metadata": {},
     "output_type": "execute_result"
    }
   ],
   "source": [
    "stats.ttest_rel(ip_ctrl['gratio_avg'], da_avg_ctrl['gratio_avg'])"
   ]
  },
  {
   "cell_type": "code",
   "execution_count": 56,
   "metadata": {},
   "outputs": [
    {
     "data": {
      "text/plain": [
       "TtestResult(statistic=15.072257027822653, pvalue=3.514307330713791e-21, df=55)"
      ]
     },
     "execution_count": 56,
     "metadata": {},
     "output_type": "execute_result"
    }
   ],
   "source": [
    "stats.ttest_rel(ip_ctrl['gratio_avg'], da_major_ctrl['gratio_avg'])"
   ]
  },
  {
   "cell_type": "markdown",
   "metadata": {},
   "source": [
    "Control Analysis of IP vs DA using DA seg"
   ]
  },
  {
   "cell_type": "code",
   "execution_count": 57,
   "metadata": {},
   "outputs": [
    {
     "data": {
      "text/plain": [
       "0.7043641053571429"
      ]
     },
     "execution_count": 57,
     "metadata": {},
     "output_type": "execute_result"
    }
   ],
   "source": [
    "ip_ctrl['gratio_avg'].mean()"
   ]
  },
  {
   "cell_type": "code",
   "execution_count": 58,
   "metadata": {},
   "outputs": [
    {
     "data": {
      "text/plain": [
       "0.5968751170964348"
      ]
     },
     "execution_count": 58,
     "metadata": {},
     "output_type": "execute_result"
    }
   ],
   "source": [
    "da_full_avg_ctrl['gratio_avg'].mean()"
   ]
  },
  {
   "cell_type": "code",
   "execution_count": 59,
   "metadata": {},
   "outputs": [
    {
     "data": {
      "text/plain": [
       "0.642791097158895"
      ]
     },
     "execution_count": 59,
     "metadata": {},
     "output_type": "execute_result"
    }
   ],
   "source": [
    "da_full_major_ctrl['gratio_avg'].mean()"
   ]
  },
  {
   "cell_type": "code",
   "execution_count": 60,
   "metadata": {},
   "outputs": [
    {
     "data": {
      "text/plain": [
       "TtestResult(statistic=18.37737370892661, pvalue=3.835010214819295e-25, df=55)"
      ]
     },
     "execution_count": 60,
     "metadata": {},
     "output_type": "execute_result"
    }
   ],
   "source": [
    "stats.ttest_rel(ip_ctrl['gratio_avg'], da_full_avg_ctrl['gratio_avg'])"
   ]
  },
  {
   "cell_type": "code",
   "execution_count": 61,
   "metadata": {},
   "outputs": [
    {
     "data": {
      "text/plain": [
       "TtestResult(statistic=9.00642994931499, pvalue=2.0637207269831005e-12, df=55)"
      ]
     },
     "execution_count": 61,
     "metadata": {},
     "output_type": "execute_result"
    }
   ],
   "source": [
    "stats.ttest_rel(ip_ctrl['gratio_avg'], da_full_major_ctrl['gratio_avg'])"
   ]
  },
  {
   "cell_type": "code",
   "execution_count": 62,
   "metadata": {},
   "outputs": [
    {
     "data": {
      "image/png": "[encoded data removed]",
      "text/plain": [
       "<Figure size 640x480 with 1 Axes>"
      ]
     },
     "metadata": {},
     "output_type": "display_data"
    }
   ],
   "source": [
    "plt.hist(ip_ctrl['gratio_avg'], alpha=0.5, label='ip')\n",
    "plt.hist(da_major_ctrl['gratio_avg'], alpha=0.5, label='da_major')\n",
    "plt.hist(da_avg_ctrl['gratio_avg'], alpha=0.5, label='da_avg')\n",
    "\n",
    "plt.legend()\n",
    "plt.show()"
   ]
  },
  {
   "cell_type": "code",
   "execution_count": 63,
   "metadata": {},
   "outputs": [
    {
     "data": {
      "image/png": "[encoded data removed]",
      "text/plain": [
       "<Figure size 640x480 with 1 Axes>"
      ]
     },
     "metadata": {},
     "output_type": "display_data"
    }
   ],
   "source": [
    "plt.hist(ip_ctrl['gratio_avg'], alpha=0.5, label='ip')\n",
    "plt.hist(da_full_major_ctrl['gratio_avg'], alpha=0.5, label='da_major')\n",
    "plt.hist(da_full_avg_ctrl['gratio_avg'], alpha=0.5, label='da_avg')\n",
    "\n",
    "plt.legend()\n",
    "plt.show()"
   ]
  }
 ],
 "metadata": {
  "kernelspec": {
   "display_name": "Python 3",
   "language": "python",
   "name": "python3"
  },
  "language_info": {
   "codemirror_mode": {
    "name": "ipython",
    "version": 3
   },
   "file_extension": ".py",
   "mimetype": "text/x-python",
   "name": "python",
   "nbconvert_exporter": "python",
   "pygments_lexer": "ipython3",
   "version": "3.8.18"
  }
 },
 "nbformat": 4,
 "nbformat_minor": 2
}
