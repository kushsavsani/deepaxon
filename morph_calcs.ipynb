{
 "cells": [
  {
   "cell_type": "code",
   "execution_count": 77,
   "metadata": {},
   "outputs": [],
   "source": [
    "from morphometrics import get_morphometrics\n",
    "import numpy as np\n",
    "import pandas as pd"
   ]
  },
  {
   "cell_type": "code",
   "execution_count": 78,
   "metadata": {},
   "outputs": [],
   "source": [
    "exp = '22G-13'\n",
    "slide = '06'\n",
    "num = 1\n",
    "max_num = 8\n",
    "df0 = pd.DataFrame()"
   ]
  },
  {
   "cell_type": "code",
   "execution_count": 79,
   "metadata": {},
   "outputs": [],
   "source": [
    "while num <= max_num:\n",
    "    img = 'D:\\\\Research\\\\Isaacs Lab\\\\DeepAxon\\\\Charles Images\\\\' + exp + '\\\\' + slide + '\\\\000' + str(num) + '\\\\' + exp + '_40X_' + slide + '_000' + str(num) + '.png'\n",
    "    df = get_morphometrics(img)\n",
    "    df = df[df['myelin_thickness']>0]\n",
    "    df0 = pd.concat([df0,df])\n",
    "    num += 1"
   ]
  },
  {
   "cell_type": "code",
   "execution_count": 80,
   "metadata": {},
   "outputs": [
    {
     "name": "stdout",
     "output_type": "stream",
     "text": [
      "5466\t0.5882698010996898\t3.372676678597666\n"
     ]
    }
   ],
   "source": [
    "print(str(len(df0)) + '\\t' + str(df0['gratio'].mean()) + '\\t' + str(df0['axon_diam'].mean()*0.106))"
   ]
  }
 ],
 "metadata": {
  "kernelspec": {
   "display_name": "Python 3",
   "language": "python",
   "name": "python3"
  },
  "language_info": {
   "codemirror_mode": {
    "name": "ipython",
    "version": 3
   },
   "file_extension": ".py",
   "mimetype": "text/x-python",
   "name": "python",
   "nbconvert_exporter": "python",
   "pygments_lexer": "ipython3",
   "version": "3.8.18"
  }
 },
 "nbformat": 4,
 "nbformat_minor": 2
}
